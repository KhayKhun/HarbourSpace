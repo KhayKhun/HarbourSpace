{
 "cells": [
  {
   "cell_type": "code",
   "execution_count": 6,
   "metadata": {},
   "outputs": [
    {
     "data": {
      "text/plain": [
       "'True'"
      ]
     },
     "execution_count": 6,
     "metadata": {},
     "output_type": "execute_result"
    }
   ],
   "source": [
    "\"{!s}\".format(True)"
   ]
  },
  {
   "cell_type": "code",
   "execution_count": 12,
   "metadata": {},
   "outputs": [
    {
     "data": {
      "text/plain": [
       "' two one two Drake'"
      ]
     },
     "execution_count": 12,
     "metadata": {},
     "output_type": "execute_result"
    }
   ],
   "source": [
    "\" {1} {0} {age} {name}\".format(\"one\",\"two\" , age=\"two\", name=\"Drake\")"
   ]
  },
  {
   "cell_type": "code",
   "execution_count": 3,
   "metadata": {},
   "outputs": [
    {
     "data": {
      "text/plain": [
       "'True two'"
      ]
     },
     "execution_count": 3,
     "metadata": {},
     "output_type": "execute_result"
    }
   ],
   "source": [
    "\"{0} {1}\".format(True, \"two\")"
   ]
  },
  {
   "cell_type": "code",
   "execution_count": 16,
   "metadata": {},
   "outputs": [
    {
     "data": {
      "text/plain": [
       "'Hello, Sally, how are you?'"
      ]
     },
     "execution_count": 16,
     "metadata": {},
     "output_type": "execute_result"
    }
   ],
   "source": [
    "\"%s, %s, how are you?\" % (\"Hello\", \"Sally\")"
   ]
  },
  {
   "cell_type": "code",
   "execution_count": 17,
   "metadata": {},
   "outputs": [
    {
     "name": "stdout",
     "output_type": "stream",
     "text": [
      "[104, 101, 108, 108, 111]\n"
     ]
    }
   ],
   "source": [
    "utf8_encoded = \"hello\".encode(\"utf-8\")\n",
    "utf8_bytes = list(utf8_encoded)\n",
    "print(utf8_bytes)"
   ]
  },
  {
   "cell_type": "code",
   "execution_count": 19,
   "metadata": {},
   "outputs": [
    {
     "name": "stdout",
     "output_type": "stream",
     "text": [
      "['0x68', '0x65', '0x6c', '0x6c', '0x6f']\n"
     ]
    }
   ],
   "source": [
    "utf8_encoded = \"hello\".encode(\"utf-8\")\n",
    "utf8_hex = [hex(b) for b in utf8_encoded]\n",
    "print(utf8_hex)"
   ]
  },
  {
   "cell_type": "code",
   "execution_count": 20,
   "metadata": {},
   "outputs": [
    {
     "name": "stdout",
     "output_type": "stream",
     "text": [
      "127814\n"
     ]
    },
    {
     "data": {
      "text/plain": [
       "['0xf0', '0x9f', '0x8d', '0x86']"
      ]
     },
     "execution_count": 20,
     "metadata": {},
     "output_type": "execute_result"
    }
   ],
   "source": [
    "print(ord('🍆')) # UCS-4\n",
    "utf8_encoded = '🍆'.encode('utf-8')\n",
    "list(map(hex, utf8_encoded))"
   ]
  },
  {
   "cell_type": "code",
   "execution_count": 22,
   "metadata": {},
   "outputs": [
    {
     "data": {
      "text/plain": [
       "('以', 'h')"
      ]
     },
     "execution_count": 22,
     "metadata": {},
     "output_type": "execute_result"
    }
   ],
   "source": [
    "\"\\u4EE5\", \"\\U00000068\""
   ]
  },
  {
   "cell_type": "code",
   "execution_count": 27,
   "metadata": {},
   "outputs": [
    {
     "data": {
      "text/plain": [
       "'🁣'"
      ]
     },
     "execution_count": 27,
     "metadata": {},
     "output_type": "execute_result"
    }
   ],
   "source": [
    "\"\\N{DOMINO TILE VERTICAL-00-00}\""
   ]
  },
  {
   "cell_type": "code",
   "execution_count": 33,
   "metadata": {},
   "outputs": [
    {
     "data": {
      "text/plain": [
       "('hiello ำดดำ', b'hiello \\xe0\\xb8\\xb3\\xe0\\xb8\\x94\\xe0\\xb8\\x94\\xe0\\xb8\\xb3')"
      ]
     },
     "execution_count": 33,
     "metadata": {},
     "output_type": "execute_result"
    }
   ],
   "source": [
    "encoded = \"hiello ำดดำ\".encode(\"utf-8\")\n",
    "\n",
    "d = encoded.decode(\"utf8\")\n",
    "d, encoded"
   ]
  },
  {
   "cell_type": "code",
   "execution_count": 54,
   "metadata": {},
   "outputs": [],
   "source": [
    "handle = open(\"hi.txt\", \"a+\")\n",
    "lines = [\"foo\", \"bar\", \"boo\"]\n",
    "result = list(map(lambda x: x + \"\\n\", lines))\n",
    "\n",
    "handle.writelines(result)\n",
    "handle.flush()\n",
    "handle.tell()\n",
    "handle.close()"
   ]
  },
  {
   "cell_type": "code",
   "execution_count": 57,
   "metadata": {},
   "outputs": [
    {
     "data": {
      "text/plain": [
       "['foo\\n', 'bar']"
      ]
     },
     "execution_count": 57,
     "metadata": {},
     "output_type": "execute_result"
    }
   ],
   "source": [
    "import io\n",
    "handle = io.StringIO(\"foo\\nbar\")\n",
    "handle.readlines()"
   ]
  },
  {
   "cell_type": "code",
   "execution_count": 58,
   "metadata": {},
   "outputs": [
    {
     "data": {
      "text/plain": [
       "b'foo'"
      ]
     },
     "execution_count": 58,
     "metadata": {},
     "output_type": "execute_result"
    }
   ],
   "source": [
    "handle = io.BytesIO(b\"foobar\")\n",
    "handle.read(3)"
   ]
  },
  {
   "cell_type": "code",
   "execution_count": 64,
   "metadata": {},
   "outputs": [
    {
     "name": "stdout",
     "output_type": "stream",
     "text": [
      "foo\n"
     ]
    }
   ],
   "source": [
    "# Your work here\n",
    "def cut_suffix(s: str, suffix: str) -> str:\n",
    "    if suffix not in s:\n",
    "        return s\n",
    "    return s[:s.index(suffix)] + s[s.index(suffix) + len(suffix):]\n",
    "\n",
    "print(cut_suffix(\"foobar\", \"bar\"))\n",
    "\n"
   ]
  },
  {
   "cell_type": "code",
   "execution_count": 66,
   "metadata": {},
   "outputs": [
    {
     "name": "stdout",
     "output_type": "stream",
     "text": [
      "None\n",
      "An error occurred: [Errno 2] No such file or directory: './example2.txt'\n",
      "None\n"
     ]
    }
   ],
   "source": [
    "def parse_shebang(file_path: str) -> str:\n",
    "    try:\n",
    "        with open(file_path, 'r') as file:\n",
    "            first_line = file.readline().strip()\n",
    "            if first_line.startswith(\"#!\"):\n",
    "                return first_line[2:].strip()\n",
    "    except Exception as e:\n",
    "        print(f\"An error occurred: {e}\")\n",
    "    return None\n",
    "\n",
    "# Test cases\n",
    "print(parse_shebang(\"./hi.txt\"))  # Should return \"/bin/sh\"\n",
    "print(parse_shebang(\"./example2.txt\"))  # Should return \"/usr/bin/env python -v\"\n"
   ]
  },
  {
   "cell_type": "code",
   "execution_count": 77,
   "metadata": {},
   "outputs": [
    {
     "name": "stdout",
     "output_type": "stream",
     "text": [
      "Expection <class 'AttributeError'> '_io.TextIOWrapper' object has no attribute 'nsdbnivdsb' <traceback object at 0x10885cd80>\n"
     ]
    }
   ],
   "source": [
    "class File(object):\n",
    "    def __init__(self, file_name, method):\n",
    "        self.file_obj = open(file_name, method)\n",
    "    def __enter__(self):\n",
    "        return self.file_obj\n",
    "    def __exit__(self, type, value, traceback):\n",
    "        print(\"Expection\", type, value, traceback)\n",
    "        self.file_obj.close()\n",
    "        return True\n",
    "\n",
    "with File('hi.txt', 'w') as opened_file:\n",
    "    opened_file.write('sdfsd!') # then __exit__ is called automatically\n",
    "    opened_file.nsdbnivdsb('Hola!') # then __exit__ is called automatically"
   ]
  },
  {
   "cell_type": "code",
   "execution_count": 91,
   "metadata": {},
   "outputs": [
    {
     "name": "stdout",
     "output_type": "stream",
     "text": [
      "start: 1730185875097.0938\n"
     ]
    }
   ],
   "source": [
    "import time\n",
    "\n",
    "class Timer:\n",
    "    def __enter__(self):\n",
    "        self.start_time = time.time()\n",
    "        print(\"start:\",self.start_time * 1000)\n",
    "        return self\n",
    "\n",
    "    def __exit__(self, exc_type, exc_val, exc_tb):\n",
    "        if exc_type:\n",
    "            total_time_taken = (time.time() - self.start_time) * 1000\n",
    "            print(f\"End: {total_time_taken} ms\")\n",
    "            return None\n",
    "        else:\n",
    "            return True\n",
    "\n",
    "def fib(n):\n",
    "    if n <= 1:\n",
    "        return n\n",
    "    return fib(n - 1) + fib(n - 2)\n",
    "\n",
    "with Timer():\n",
    "    fib(30)\n"
   ]
  },
  {
   "cell_type": "code",
   "execution_count": 4,
   "metadata": {},
   "outputs": [
    {
     "name": "stdout",
     "output_type": "stream",
     "text": [
      "3 lines were written to 'output.log'\n"
     ]
    },
    {
     "ename": "ZeroDivisionError",
     "evalue": "division by zero",
     "output_type": "error",
     "traceback": [
      "\u001b[0;31m---------------------------------------------------------------------------\u001b[0m",
      "\u001b[0;31mZeroDivisionError\u001b[0m                         Traceback (most recent call last)",
      "Cell \u001b[0;32mIn[4], line 36\u001b[0m\n\u001b[1;32m     34\u001b[0m \u001b[38;5;28mprint\u001b[39m(\u001b[38;5;124m\"\u001b[39m\u001b[38;5;124mThis too\u001b[39m\u001b[38;5;124m\"\u001b[39m)\n\u001b[1;32m     35\u001b[0m \u001b[38;5;66;03m# If any error occurs, it should be logged to the file\u001b[39;00m\n\u001b[0;32m---> 36\u001b[0m x \u001b[38;5;241m=\u001b[39m \u001b[38;5;241m2\u001b[39m \u001b[38;5;241m/\u001b[39m \u001b[38;5;241m0\u001b[39m\n",
      "\u001b[0;31mZeroDivisionError\u001b[0m: division by zero"
     ]
    }
   ],
   "source": [
    "import sys\n",
    "\n",
    "class ConsoleLogger:\n",
    "    def __init__(self, filename : str) -> None:\n",
    "        self.filename = filename\n",
    "        self.original_stdout = sys.stdout  # Keep a reference to the original stdout\n",
    "        self.f = None\n",
    "        self.count = 0\n",
    "\n",
    "    def __enter__(self):\n",
    "        self.f = open(self.filename, 'w')\n",
    "        sys.stdout = self\n",
    "        return self\n",
    "\n",
    "    def write(self, message : str) -> None:\n",
    "        self.f.write(message)\n",
    "        self.count += message.count('\\n')\n",
    "\n",
    "    def __exit__(self, exc_type, exc_value, exc_traceback):\n",
    "        if exc_type:\n",
    "            if exc_type == ZeroDivisionError:\n",
    "                self.write(\"ZeroDivisionError occurred\\n\")\n",
    "            elif exc_type == ValueError:\n",
    "                self.write(\"ValueError occurred\\n\")\n",
    "            else:\n",
    "                self.write(f\"Other errors\\n\")\n",
    "\n",
    "        self.f.close()\n",
    "        sys.stdout = self.original_stdout\n",
    "        print(f\"{self.count} lines were written to '{self.filename}'\")\n",
    "\n",
    "with ConsoleLogger('output.log'):\n",
    "    print(\"This should go to the file\")\n",
    "    print(\"This too\")\n",
    "    # If any error occurs, it should be logged to the file\n",
    "    x = 2 / 0  # This will log 'ZeroDivisionError occurred'\n"
   ]
  },
  {
   "cell_type": "code",
   "execution_count": 6,
   "metadata": {},
   "outputs": [
    {
     "name": "stdout",
     "output_type": "stream",
     "text": [
      "#!/usr/bin/env python -v\n",
      "/usr/bin/env python -v\n"
     ]
    }
   ],
   "source": [
    "def parse_shebang(file_path: str) -> str:\n",
    "    try:\n",
    "        with open(file_path, 'r') as file:\n",
    "            first_line = file.readline().strip()\n",
    "            print(first_line)\n",
    "            if first_line.startswith(\"#!\"):\n",
    "                return first_line[2:].strip()\n",
    "    except Exception as e:\n",
    "        print(f\"An error occurred: {e}\")\n",
    "    return None\n",
    "\n",
    "parse_shebang(\"example.txt\")"
   ]
  }
 ],
 "metadata": {
  "kernelspec": {
   "display_name": "base",
   "language": "python",
   "name": "python3"
  },
  "language_info": {
   "codemirror_mode": {
    "name": "ipython",
    "version": 3
   },
   "file_extension": ".py",
   "mimetype": "text/x-python",
   "name": "python",
   "nbconvert_exporter": "python",
   "pygments_lexer": "ipython3",
   "version": "3.12.4"
  }
 },
 "nbformat": 4,
 "nbformat_minor": 2
}

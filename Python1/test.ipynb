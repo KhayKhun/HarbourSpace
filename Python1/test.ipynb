{
 "cells": [
  {
   "cell_type": "code",
   "execution_count": 4,
   "metadata": {},
   "outputs": [
    {
     "name": "stdout",
     "output_type": "stream",
     "text": [
      "Sai\n",
      "18\n",
      "OHOHOHOHOHHHHOOOOOOO\n",
      "1UwU2UwU3\n",
      "False\n",
      "True\n"
     ]
    }
   ],
   "source": [
    "print(\"Sai\")\n",
    "print(\"18\")\n",
    "print(\"OHOHOHOHOHHHHOOOOOOO\")\n",
    "\n",
    "print(\"1\", \"2\", \"3\", sep=\"UwU\")\n",
    "\n",
    "print(isinstance(1, bool))\n",
    "print(1 == True)"
   ]
  },
  {
   "cell_type": "markdown",
   "metadata": {},
   "source": [
    "## Variables"
   ]
  },
  {
   "cell_type": "code",
   "execution_count": 5,
   "metadata": {},
   "outputs": [],
   "source": [
    "# userName = input(\"What is your name?\")\n",
    "# print(\"Sup!\", userName)"
   ]
  },
  {
   "cell_type": "markdown",
   "metadata": {},
   "source": [
    "## Type Casting"
   ]
  },
  {
   "cell_type": "code",
   "execution_count": 6,
   "metadata": {},
   "outputs": [
    {
     "name": "stdout",
     "output_type": "stream",
     "text": [
      "3\n"
     ]
    }
   ],
   "source": [
    "x = int(3.5)\n",
    "x = int(3.9999)\n",
    "# x = int('-3.5')\n",
    "print(x)"
   ]
  },
  {
   "cell_type": "code",
   "execution_count": 7,
   "metadata": {},
   "outputs": [
    {
     "name": "stdout",
     "output_type": "stream",
     "text": [
      "True\n"
     ]
    }
   ],
   "source": [
    "y = bool(3)\n",
    "print(y)"
   ]
  },
  {
   "cell_type": "code",
   "execution_count": 8,
   "metadata": {},
   "outputs": [
    {
     "name": "stdout",
     "output_type": "stream",
     "text": [
      "False\n"
     ]
    }
   ],
   "source": [
    "z = bool('Snoop')\n",
    "z = bool(None)\n",
    "z = bool('')\n",
    "print(z)"
   ]
  },
  {
   "cell_type": "code",
   "execution_count": 9,
   "metadata": {},
   "outputs": [
    {
     "name": "stdout",
     "output_type": "stream",
     "text": [
      "'string in string in string in string'\n"
     ]
    }
   ],
   "source": [
    "print(str(\"'\"'string in string in string in string'\"'\"))"
   ]
  },
  {
   "cell_type": "code",
   "execution_count": 10,
   "metadata": {},
   "outputs": [
    {
     "name": "stdout",
     "output_type": "stream",
     "text": [
      "2916.0\n"
     ]
    }
   ],
   "source": [
    "x = 9\n",
    "\n",
    "x += 1\n",
    "x -= 1\n",
    "x *= 3\n",
    "x /= 0.5\n",
    "x **= 2\n",
    "print(x)"
   ]
  },
  {
   "cell_type": "markdown",
   "metadata": {},
   "source": [
    "## Logical opertors"
   ]
  },
  {
   "cell_type": "code",
   "execution_count": 11,
   "metadata": {},
   "outputs": [
    {
     "name": "stdout",
     "output_type": "stream",
     "text": [
      "False\n",
      "True\n"
     ]
    }
   ],
   "source": [
    "not True\n",
    "okay = not (True or False) and (False and False)\n",
    "print(okay)\n",
    "print(4 > 3 and 69 == int('69'))"
   ]
  },
  {
   "cell_type": "code",
   "execution_count": 12,
   "metadata": {},
   "outputs": [
    {
     "data": {
      "text/plain": [
       "True"
      ]
     },
     "execution_count": 12,
     "metadata": {},
     "output_type": "execute_result"
    }
   ],
   "source": [
    "3 > 4\n",
    "3 < 4\n",
    "3 >= 4\n",
    "3 <= 4\n",
    "3 == 4\n",
    "3 != 4"
   ]
  },
  {
   "cell_type": "code",
   "execution_count": 13,
   "metadata": {},
   "outputs": [
    {
     "data": {
      "text/plain": [
       "True"
      ]
     },
     "execution_count": 13,
     "metadata": {},
     "output_type": "execute_result"
    }
   ],
   "source": [
    "4 > 2 > 1 < 69 == 69 > 8 # Nice"
   ]
  },
  {
   "cell_type": "markdown",
   "metadata": {},
   "source": [
    "## More"
   ]
  },
  {
   "cell_type": "code",
   "execution_count": 14,
   "metadata": {},
   "outputs": [
    {
     "ename": "ValueError",
     "evalue": "invalid literal for int() with base 10: ''",
     "output_type": "error",
     "traceback": [
      "\u001b[0;31m---------------------------------------------------------------------------\u001b[0m",
      "\u001b[0;31mValueError\u001b[0m                                Traceback (most recent call last)",
      "Cell \u001b[0;32mIn[14], line 1\u001b[0m\n\u001b[0;32m----> 1\u001b[0m x \u001b[38;5;241m=\u001b[39m \u001b[38;5;28;43mint\u001b[39;49m\u001b[43m(\u001b[49m\u001b[38;5;28;43minput\u001b[39;49m\u001b[43m(\u001b[49m\u001b[38;5;124;43m\"\u001b[39;49m\u001b[38;5;124;43mPut something 1 - \u001b[39;49m\u001b[38;5;124;43m\"\u001b[39;49m\u001b[43m)\u001b[49m\u001b[43m)\u001b[49m\n\u001b[1;32m      2\u001b[0m y \u001b[38;5;241m=\u001b[39m \u001b[38;5;28mint\u001b[39m(\u001b[38;5;28minput\u001b[39m(\u001b[38;5;124m\"\u001b[39m\u001b[38;5;124mPut something 2 - \u001b[39m\u001b[38;5;124m\"\u001b[39m))\n\u001b[1;32m      3\u001b[0m result \u001b[38;5;241m=\u001b[39m x \u001b[38;5;241m+\u001b[39m y\n",
      "\u001b[0;31mValueError\u001b[0m: invalid literal for int() with base 10: ''"
     ]
    }
   ],
   "source": [
    "x = int(input(\"Put something 1 - \"))\n",
    "y = int(input(\"Put something 2 - \"))\n",
    "result = x + y\n",
    "\n",
    "print(result)"
   ]
  },
  {
   "cell_type": "code",
   "execution_count": null,
   "metadata": {},
   "outputs": [
    {
     "name": "stdout",
     "output_type": "stream",
     "text": [
      "{'Celsius': 26.85, 'Fahrenheit': 80.33, 'Kelvin': 300.0}\n"
     ]
    }
   ],
   "source": [
    "user_temperature = float(input(\"Enter the temperature  - \"))\n",
    "user_unit = input(\"Enter the temperature unit (C, F, or K) - \")\n",
    "\n",
    "if user_unit.upper() == 'C':\n",
    "    celsius = user_temperature\n",
    "elif user_unit.upper() == 'F':\n",
    "    celsius = (user_temperature - 32) * 5 / 9\n",
    "elif user_unit.upper() == 'K':\n",
    "    celsius = user_temperature - 273.15\n",
    "else:\n",
    "    print('Invalid unit :(')\n",
    "\n",
    "\n",
    "fahrenheit = (celsius * 9/5) + 32\n",
    "kelvin = celsius + 273.15\n",
    "\n",
    "result = {\n",
    "    'Celsius': round(celsius, 2),\n",
    "    'Fahrenheit': round(fahrenheit, 2),\n",
    "    'Kelvin': round(kelvin, 2)\n",
    "}\n",
    "\n",
    "print(result)"
   ]
  },
  {
   "cell_type": "code",
   "execution_count": null,
   "metadata": {},
   "outputs": [
    {
     "data": {
      "text/plain": [
       "900"
      ]
     },
     "execution_count": 51,
     "metadata": {},
     "output_type": "execute_result"
    }
   ],
   "source": [
    "round(889,-2)"
   ]
  },
  {
   "cell_type": "markdown",
   "metadata": {},
   "source": [
    "## Condition"
   ]
  },
  {
   "cell_type": "code",
   "execution_count": null,
   "metadata": {},
   "outputs": [
    {
     "name": "stdout",
     "output_type": "stream",
     "text": [
      "one\n",
      "three\n"
     ]
    }
   ],
   "source": [
    "# SOlve this subbb\n",
    "\n",
    "x = True\n",
    "y = not x\n",
    "\n",
    "if x or y:\n",
    "    print('one')\n",
    "    if x and y:\n",
    "        print('two')\n",
    "    if not not (x or y):\n",
    "        print('three')"
   ]
  },
  {
   "cell_type": "markdown",
   "metadata": {},
   "source": [
    "## Loops"
   ]
  },
  {
   "cell_type": "markdown",
   "metadata": {},
   "source": [
    "### While loop"
   ]
  },
  {
   "cell_type": "code",
   "execution_count": null,
   "metadata": {},
   "outputs": [
    {
     "name": "stdout",
     "output_type": "stream",
     "text": [
      "2\n",
      "4\n"
     ]
    }
   ],
   "source": [
    "n = 1\n",
    "\n",
    "while n <= 20:\n",
    "    if n == 6:\n",
    "        break\n",
    "    if n % 2 == 0:\n",
    "        print(n)\n",
    "    n += 1"
   ]
  },
  {
   "cell_type": "markdown",
   "metadata": {},
   "source": [
    "### For loop"
   ]
  },
  {
   "cell_type": "code",
   "execution_count": null,
   "metadata": {},
   "outputs": [
    {
     "name": "stdout",
     "output_type": "stream",
     "text": [
      "1\n",
      "4\n",
      "9\n",
      "16\n",
      "25\n",
      "36\n",
      "49\n",
      "64\n",
      "81\n",
      "100\n"
     ]
    }
   ],
   "source": [
    "for i in range(1,11):\n",
    "    print(i**2)"
   ]
  },
  {
   "cell_type": "markdown",
   "metadata": {},
   "source": [
    "## Loop in loop in loop"
   ]
  },
  {
   "cell_type": "code",
   "execution_count": null,
   "metadata": {},
   "outputs": [
    {
     "name": "stdout",
     "output_type": "stream",
     "text": [
      "0 0\n",
      "0 1\n",
      "1 0\n",
      "1 1\n",
      "2 0\n",
      "2 1\n"
     ]
    }
   ],
   "source": [
    "for i in range(3):\n",
    "    for j in range(2):\n",
    "        print(i,j)"
   ]
  },
  {
   "cell_type": "markdown",
   "metadata": {},
   "source": [
    "## String methods"
   ]
  },
  {
   "cell_type": "code",
   "execution_count": 16,
   "metadata": {},
   "outputs": [
    {
     "name": "stdout",
     "output_type": "stream",
     "text": [
      "k\n"
     ]
    }
   ],
   "source": [
    "s = \"Clock\"\n",
    "\n",
    "print(s[-1])"
   ]
  },
  {
   "cell_type": "markdown",
   "metadata": {},
   "source": [
    "## Slicing 🗡️"
   ]
  },
  {
   "cell_type": "code",
   "execution_count": 31,
   "metadata": {},
   "outputs": [
    {
     "data": {
      "text/plain": [
       "'ecioN'"
      ]
     },
     "execution_count": 31,
     "metadata": {},
     "output_type": "execute_result"
    }
   ],
   "source": [
    "s = \"Nooki cee\"\n",
    "\n",
    "s[0:10:2]\n",
    "s[::2]\n",
    "s[::-2]"
   ]
  },
  {
   "cell_type": "markdown",
   "metadata": {},
   "source": [
    "## F-string (String Format)"
   ]
  },
  {
   "cell_type": "code",
   "execution_count": 2,
   "metadata": {},
   "outputs": [
    {
     "name": "stdout",
     "output_type": "stream",
     "text": [
      "Number is : 69\n"
     ]
    }
   ],
   "source": [
    "n = 69\n",
    "\n",
    "text = f\"Number is : {n}\"\n",
    "\n",
    "print(text)"
   ]
  },
  {
   "cell_type": "markdown",
   "metadata": {},
   "source": [
    "## Loop the string"
   ]
  },
  {
   "cell_type": "code",
   "execution_count": 5,
   "metadata": {},
   "outputs": [
    {
     "name": "stdout",
     "output_type": "stream",
     "text": [
      "0 S\n",
      "1 o\n",
      "2 m\n",
      "3 e\n",
      "4 t\n",
      "5 h\n",
      "6 i\n",
      "7 n\n",
      "8 g\n",
      "9  \n",
      "10 i\n",
      "11 s\n"
     ]
    }
   ],
   "source": [
    "s = \"Something is\"\n",
    "\n",
    "for i in range(len(s)):\n",
    "    print(i, s[i])"
   ]
  },
  {
   "cell_type": "code",
   "execution_count": 7,
   "metadata": {},
   "outputs": [
    {
     "name": "stdout",
     "output_type": "stream",
     "text": [
      "0 E\n",
      "1 v\n",
      "2 e\n",
      "3 r\n",
      "4 y\n",
      "5 t\n",
      "6 h\n",
      "7 i\n",
      "8 n\n",
      "9 g\n",
      "10  \n",
      "11 i\n",
      "12 s\n",
      "13  \n",
      "14 .\n",
      "15 .\n",
      "16 .\n"
     ]
    }
   ],
   "source": [
    "s = \"Everything is ...\"\n",
    "\n",
    "for i, char in enumerate(s):\n",
    "    print(i, char)"
   ]
  },
  {
   "cell_type": "code",
   "execution_count": 14,
   "metadata": {},
   "outputs": [
    {
     "name": "stdout",
     "output_type": "stream",
     "text": [
      "True\n"
     ]
    }
   ],
   "source": [
    "s = input()\n",
    "\n",
    "isP = True\n",
    "\n",
    "for i in range(len(s)//2):\n",
    "    if (s[i] != s[-(i + 1)]):\n",
    "        isP = False\n",
    "    \n",
    "if(isP):\n",
    "    print(\"YES\")\n",
    "else:\n",
    "    print(\"NO\")"
   ]
  },
  {
   "cell_type": "code",
   "execution_count": 5,
   "metadata": {},
   "outputs": [
    {
     "name": "stdout",
     "output_type": "stream",
     "text": [
      "\n",
      "        .--.\n",
      "       |o_o |\n",
      "       |:_/ |\n",
      "      //   \\      (|     | )\n",
      "    /'\\_   _/`\\\n",
      "    \\___)=(___/\n",
      "    \n"
     ]
    },
    {
     "name": "stderr",
     "output_type": "stream",
     "text": [
      "<>:2: SyntaxWarning: invalid escape sequence '\\ '\n",
      "<>:2: SyntaxWarning: invalid escape sequence '\\ '\n",
      "/var/folders/79/2c2f5dkd1893h2s3blxl5j_h0000gn/T/ipykernel_3073/3677775949.py:2: SyntaxWarning: invalid escape sequence '\\ '\n",
      "  tulip_art = \"\"\"\n"
     ]
    }
   ],
   "source": [
    "def tulip():\n",
    "    tulip_art = \"\"\"\n",
    "        .--.\n",
    "       |o_o |\n",
    "       |:_/ |\n",
    "      //   \\ \\\n",
    "     (|     | )\n",
    "    /'\\_   _/`\\\\\n",
    "    \\___)=(___/\n",
    "    \"\"\"\n",
    "    print(tulip_art)\n",
    "\n",
    "tulip()"
   ]
  },
  {
   "cell_type": "code",
   "execution_count": 2,
   "metadata": {},
   "outputs": [
    {
     "data": {
      "text/plain": [
       "[4, 6, 543, 745]"
      ]
     },
     "execution_count": 2,
     "metadata": {},
     "output_type": "execute_result"
    }
   ],
   "source": [
    "l = [1,4,6,543,745,1]\n",
    "\n",
    "temp = []\n",
    "for i in l:\n",
    "    if i!= 1:\n",
    "        temp.append(i)\n",
    "temp"
   ]
  },
  {
   "cell_type": "markdown",
   "metadata": {},
   "source": [
    "## Map"
   ]
  },
  {
   "cell_type": "code",
   "execution_count": 2,
   "metadata": {},
   "outputs": [
    {
     "name": "stdout",
     "output_type": "stream",
     "text": [
      "(1, 4, 9, 16, 25)\n"
     ]
    }
   ],
   "source": [
    "def okay(n):\n",
    "    return n ** 2\n",
    "\n",
    "l = [1,2,3,4,5]\n",
    "res = tuple(map(okay,l))\n",
    "\n",
    "print(res)\n"
   ]
  },
  {
   "cell_type": "code",
   "execution_count": 4,
   "metadata": {},
   "outputs": [
    {
     "data": {
      "text/plain": [
       "['_', 'p', 'p', 'l', '_']"
      ]
     },
     "execution_count": 4,
     "metadata": {},
     "output_type": "execute_result"
    }
   ],
   "source": [
    "# goal = set(\"apple\")\n",
    "# current = set(\"pl\")\n",
    "\n",
    "# c = goal-current\n",
    "\n",
    "# goal_str = 'apple'\n",
    "# temp = ''\n",
    "\n",
    "# for char in goal_str:\n",
    "#     if char in c:\n",
    "#         temp += '_'\n",
    "#     else:\n",
    "#         temp += char\n",
    "\n",
    "\n",
    "def latestString(goalSet, goalString, currentCorrect):\n",
    "    diff = goalSet - currentCorrect\n",
    "    temp = []\n",
    "\n",
    "    for char in goalString:\n",
    "        if char in diff:\n",
    "            temp.append('_')\n",
    "        else:\n",
    "            temp.append(char)\n",
    "    return temp\n",
    "\n",
    "res = latestString(set(\"apple\"), \"apple\", set(\"pl\"))\n",
    "res\n"
   ]
  }
 ],
 "metadata": {
  "kernelspec": {
   "display_name": "oknrsr",
   "language": "python",
   "name": "python3"
  },
  "language_info": {
   "codemirror_mode": {
    "name": "ipython",
    "version": 3
   },
   "file_extension": ".py",
   "mimetype": "text/x-python",
   "name": "python",
   "nbconvert_exporter": "python",
   "pygments_lexer": "ipython3",
   "version": "3.12.5"
  }
 },
 "nbformat": 4,
 "nbformat_minor": 2
}
